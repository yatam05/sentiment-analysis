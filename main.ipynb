{
 "cells": [
  {
   "cell_type": "code",
   "execution_count": 1,
   "metadata": {},
   "outputs": [],
   "source": [
    "# Imports pandas library which allows us to read the dataset and index it\n",
    "import pandas as pd"
   ]
  },
  {
   "cell_type": "code",
   "execution_count": 20,
   "metadata": {},
   "outputs": [],
   "source": [
    "# Reads the csv dataset to a Pandas Dataframe\n",
    "df = pd.read_csv(\"dataset/Reddit_data.csv\")\n"
   ]
  },
  {
   "cell_type": "code",
   "execution_count": 21,
   "metadata": {},
   "outputs": [],
   "source": [
    "import pandas as pd\n",
    "from sklearn.model_selection import train_test_split\n",
    "\n",
    "# Assuming your DataFrame is named 'df' with columns 'clean_comment' and 'category'\n",
    "\n",
    "# Splitting into features (X) and target (y)\n",
    "X = df['clean_comment']\n",
    "y = df['category']\n",
    "\n",
    "# Make sures all of the categories are integers\n",
    "y = y.astype('int')\n"
   ]
  },
  {
   "cell_type": "code",
   "execution_count": 2,
   "metadata": {},
   "outputs": [
    {
     "ename": "NameError",
     "evalue": "name 'df' is not defined",
     "output_type": "error",
     "traceback": [
      "\u001b[1;31m---------------------------------------------------------------------------\u001b[0m",
      "\u001b[1;31mNameError\u001b[0m                                 Traceback (most recent call last)",
      "Cell \u001b[1;32mIn[2], line 6\u001b[0m\n\u001b[0;32m      3\u001b[0m \u001b[39mfrom\u001b[39;00m \u001b[39msklearn\u001b[39;00m\u001b[39m.\u001b[39;00m\u001b[39mimpute\u001b[39;00m \u001b[39mimport\u001b[39;00m SimpleImputer\n\u001b[0;32m      5\u001b[0m \u001b[39m# Step 1: Prepare the data\u001b[39;00m\n\u001b[1;32m----> 6\u001b[0m X \u001b[39m=\u001b[39m df[\u001b[39m'\u001b[39m\u001b[39mclean_comment\u001b[39m\u001b[39m'\u001b[39m]\n\u001b[0;32m      7\u001b[0m y \u001b[39m=\u001b[39m df[\u001b[39m'\u001b[39m\u001b[39mcategory\u001b[39m\u001b[39m'\u001b[39m]\n\u001b[0;32m      8\u001b[0m y \u001b[39m=\u001b[39m y\u001b[39m.\u001b[39mastype(\u001b[39m'\u001b[39m\u001b[39mint\u001b[39m\u001b[39m'\u001b[39m)\n",
      "\u001b[1;31mNameError\u001b[0m: name 'df' is not defined"
     ]
    }
   ],
   "source": [
    "import numpy as np\n",
    "from sklearn.feature_extraction.text import TfidfVectorizer\n",
    "from sklearn.impute import SimpleImputer\n",
    "\n",
    "# Step 1: Prepare the data\n",
    "X = df['clean_comment']\n",
    "y = df['category']\n",
    "y = y.astype('int')\n",
    "\n",
    "# Step 2: Handle missing values\n",
    "X.fillna('', inplace=True)  # Replace NaN with an empty string\n",
    "\n",
    "# Step 3: Split the data into training and testing sets\n",
    "X_train, X_test, y_train, y_test = train_test_split(X, y, test_size=0.2, random_state=42)\n",
    "\n",
    "# Step 4: Vectorize the text data\n",
    "vectorizer = TfidfVectorizer()\n",
    "X_train_vec = vectorizer.fit_transform(X_train)\n",
    "X_test_vec = vectorizer.transform(X_test)\n",
    "\n",
    "# Step 5: Create an instance of the logistic regression model\n",
    "model = LogisticRegression()\n",
    "\n",
    "# Step 6: Fit the model to the training data\n",
    "model.fit(X_train_vec, y_train)\n",
    "\n",
    "# Step 7: Evaluate the model on the testing data\n",
    "accuracy = model.score(X_test_vec, y_test)\n",
    "print(\"Accuracy:\", accuracy)\n"
   ]
  },
  {
   "cell_type": "code",
   "execution_count": 41,
   "metadata": {},
   "outputs": [
    {
     "ename": "TypeError",
     "evalue": "OneHotEncoder.__init__() got an unexpected keyword argument 'n_values'",
     "output_type": "error",
     "traceback": [
      "\u001b[1;31m---------------------------------------------------------------------------\u001b[0m",
      "\u001b[1;31mTypeError\u001b[0m                                 Traceback (most recent call last)",
      "Cell \u001b[1;32mIn[41], line 7\u001b[0m\n\u001b[0;32m      4\u001b[0m input_data \u001b[39m=\u001b[39m np\u001b[39m.\u001b[39marray([\u001b[39m\"\u001b[39m\u001b[39mmeth\u001b[39m\u001b[39m\"\u001b[39m])\n\u001b[0;32m      6\u001b[0m \u001b[39m# Create an instance of the OneHotEncoder\u001b[39;00m\n\u001b[1;32m----> 7\u001b[0m encoder \u001b[39m=\u001b[39m OneHotEncoder(n_values\u001b[39m=\u001b[39;49m\u001b[39m47602\u001b[39;49m, sparse\u001b[39m=\u001b[39;49m\u001b[39mFalse\u001b[39;49;00m)\n\u001b[0;32m      9\u001b[0m \u001b[39m# Fit and transform the input data\u001b[39;00m\n\u001b[0;32m     10\u001b[0m encoded_data \u001b[39m=\u001b[39m encoder\u001b[39m.\u001b[39mfit_transform(input_data\u001b[39m.\u001b[39mreshape(\u001b[39m-\u001b[39m\u001b[39m1\u001b[39m, \u001b[39m1\u001b[39m))\n",
      "\u001b[1;31mTypeError\u001b[0m: OneHotEncoder.__init__() got an unexpected keyword argument 'n_values'"
     ]
    }
   ],
   "source": [
    "import numpy as np\n",
    "from sklearn.preprocessing import OneHotEncoder\n",
    "\n",
    "input_data = np.array([\"meth\"])\n",
    "\n",
    "# Create an instance of the OneHotEncoder\n",
    "encoder = OneHotEncoder(n_values=47602, sparse=False)\n",
    "\n",
    "# Fit and transform the input data\n",
    "encoded_data = encoder.fit_transform(input_data.reshape(-1, 1))\n",
    "\n",
    "predictions = model.predict(encoded_data)\n"
   ]
  }
 ],
 "metadata": {
  "kernelspec": {
   "display_name": "Python 3",
   "language": "python",
   "name": "python3"
  },
  "language_info": {
   "codemirror_mode": {
    "name": "ipython",
    "version": 3
   },
   "file_extension": ".py",
   "mimetype": "text/x-python",
   "name": "python",
   "nbconvert_exporter": "python",
   "pygments_lexer": "ipython3",
   "version": "3.11.4"
  },
  "orig_nbformat": 4
 },
 "nbformat": 4,
 "nbformat_minor": 2
}
